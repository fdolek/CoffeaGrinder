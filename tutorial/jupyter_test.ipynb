{
 "cells": [
  {
   "cell_type": "markdown",
   "metadata": {},
   "source": [
    "# this cell type  is markdown \n",
    "# Search for Monotop Signatures in Proton-Proton Collisions\n",
    "\n",
    "Search for Monotop Signatures in Proton-Proton Collisions\n",
    "*note This text will be italicized.*\n",
    "\n",
    "## Second Title (Search for Monotop Signatures in Proton-Proton Collisions)\n",
    "Search for new decaying massive particles whose pres-ence is inferred from an imbalance in transverse momentum and which are producedin association with a single top quark that decays into a bottom quark and two lightquarks. \n",
    "\n",
    "*italic* and **bold**... this *can be **nested** like* so.\n",
    "\n",
    "\n",
    "### What Does The Fox Say? \n",
    "\n",
    "\n",
    "1. Coffea\n",
    "2. Coffea\n",
    "3. Coffea Coffea Coffea Coffea Coffea\n",
    "\n",
    "> 123 qwe wer wer wer \n",
    ">> test 1 2 3 4 test 1 2 3 4\n",
    "#### next cell type will be code"
   ]
  },
  {
   "cell_type": "code",
   "execution_count": 1,
   "metadata": {},
   "outputs": [
    {
     "name": "stdout",
     "output_type": "stream",
     "text": [
      "furkan\n"
     ]
    }
   ],
   "source": [
    "print('furkan')"
   ]
  },
  {
   "cell_type": "code",
   "execution_count": 2,
   "metadata": {},
   "outputs": [
    {
     "data": {
      "text/plain": [
       "'hello world'"
      ]
     },
     "execution_count": 2,
     "metadata": {},
     "output_type": "execute_result"
    }
   ],
   "source": [
    "'hello world'"
   ]
  },
  {
   "cell_type": "code",
   "execution_count": 3,
   "metadata": {},
   "outputs": [],
   "source": [
    "name ='furkan'"
   ]
  },
  {
   "cell_type": "code",
   "execution_count": 4,
   "metadata": {},
   "outputs": [
    {
     "data": {
      "text/plain": [
       "'furkan'"
      ]
     },
     "execution_count": 4,
     "metadata": {},
     "output_type": "execute_result"
    }
   ],
   "source": [
    "name"
   ]
  },
  {
   "cell_type": "code",
   "execution_count": 5,
   "metadata": {},
   "outputs": [],
   "source": [
    "name = 'ford'"
   ]
  },
  {
   "cell_type": "code",
   "execution_count": 6,
   "metadata": {},
   "outputs": [
    {
     "name": "stdout",
     "output_type": "stream",
     "text": [
      "test1.HTML  test1.ipynb  test2.html  testing.ipynb  Untitled1.ipynb\r\n"
     ]
    }
   ],
   "source": [
    "!ls #bash command"
   ]
  },
  {
   "cell_type": "code",
   "execution_count": 7,
   "metadata": {},
   "outputs": [
    {
     "data": {
      "application/json": {
       "cell": {
        "!": "OSMagics",
        "HTML": "Other",
        "SVG": "Other",
        "bash": "Other",
        "capture": "ExecutionMagics",
        "debug": "ExecutionMagics",
        "file": "Other",
        "html": "DisplayMagics",
        "javascript": "DisplayMagics",
        "js": "DisplayMagics",
        "latex": "DisplayMagics",
        "perl": "Other",
        "prun": "ExecutionMagics",
        "pypy": "Other",
        "python": "Other",
        "python2": "Other",
        "python3": "Other",
        "ruby": "Other",
        "script": "ScriptMagics",
        "sh": "Other",
        "svg": "DisplayMagics",
        "sx": "OSMagics",
        "system": "OSMagics",
        "time": "ExecutionMagics",
        "timeit": "ExecutionMagics",
        "writefile": "OSMagics"
       },
       "line": {
        "alias": "OSMagics",
        "alias_magic": "BasicMagics",
        "autocall": "AutoMagics",
        "automagic": "AutoMagics",
        "autosave": "KernelMagics",
        "bookmark": "OSMagics",
        "cat": "Other",
        "cd": "OSMagics",
        "clear": "KernelMagics",
        "colors": "BasicMagics",
        "config": "ConfigMagics",
        "connect_info": "KernelMagics",
        "cp": "Other",
        "debug": "ExecutionMagics",
        "dhist": "OSMagics",
        "dirs": "OSMagics",
        "doctest_mode": "BasicMagics",
        "ed": "Other",
        "edit": "KernelMagics",
        "env": "OSMagics",
        "gui": "BasicMagics",
        "hist": "Other",
        "history": "HistoryMagics",
        "killbgscripts": "ScriptMagics",
        "ldir": "Other",
        "less": "KernelMagics",
        "lf": "Other",
        "lk": "Other",
        "ll": "Other",
        "load": "CodeMagics",
        "load_ext": "ExtensionMagics",
        "loadpy": "CodeMagics",
        "logoff": "LoggingMagics",
        "logon": "LoggingMagics",
        "logstart": "LoggingMagics",
        "logstate": "LoggingMagics",
        "logstop": "LoggingMagics",
        "ls": "Other",
        "lsmagic": "BasicMagics",
        "lx": "Other",
        "macro": "ExecutionMagics",
        "magic": "BasicMagics",
        "man": "KernelMagics",
        "matplotlib": "PylabMagics",
        "mkdir": "Other",
        "more": "KernelMagics",
        "mv": "Other",
        "notebook": "BasicMagics",
        "page": "BasicMagics",
        "pastebin": "CodeMagics",
        "pdb": "ExecutionMagics",
        "pdef": "NamespaceMagics",
        "pdoc": "NamespaceMagics",
        "pfile": "NamespaceMagics",
        "pinfo": "NamespaceMagics",
        "pinfo2": "NamespaceMagics",
        "popd": "OSMagics",
        "pprint": "BasicMagics",
        "precision": "BasicMagics",
        "profile": "BasicMagics",
        "prun": "ExecutionMagics",
        "psearch": "NamespaceMagics",
        "psource": "NamespaceMagics",
        "pushd": "OSMagics",
        "pwd": "OSMagics",
        "pycat": "OSMagics",
        "pylab": "PylabMagics",
        "qtconsole": "KernelMagics",
        "quickref": "BasicMagics",
        "recall": "HistoryMagics",
        "rehashx": "OSMagics",
        "reload_ext": "ExtensionMagics",
        "rep": "Other",
        "rerun": "HistoryMagics",
        "reset": "NamespaceMagics",
        "reset_selective": "NamespaceMagics",
        "rm": "Other",
        "rmdir": "Other",
        "run": "ExecutionMagics",
        "save": "CodeMagics",
        "sc": "OSMagics",
        "set_env": "OSMagics",
        "store": "StoreMagics",
        "sx": "OSMagics",
        "system": "OSMagics",
        "tb": "ExecutionMagics",
        "time": "ExecutionMagics",
        "timeit": "ExecutionMagics",
        "unalias": "OSMagics",
        "unload_ext": "ExtensionMagics",
        "who": "NamespaceMagics",
        "who_ls": "NamespaceMagics",
        "whos": "NamespaceMagics",
        "xdel": "NamespaceMagics",
        "xmode": "BasicMagics"
       }
      },
      "text/plain": [
       "Available line magics:\n",
       "%alias  %alias_magic  %autocall  %automagic  %autosave  %bookmark  %cat  %cd  %clear  %colors  %config  %connect_info  %cp  %debug  %dhist  %dirs  %doctest_mode  %ed  %edit  %env  %gui  %hist  %history  %killbgscripts  %ldir  %less  %lf  %lk  %ll  %load  %load_ext  %loadpy  %logoff  %logon  %logstart  %logstate  %logstop  %ls  %lsmagic  %lx  %macro  %magic  %man  %matplotlib  %mkdir  %more  %mv  %notebook  %page  %pastebin  %pdb  %pdef  %pdoc  %pfile  %pinfo  %pinfo2  %popd  %pprint  %precision  %profile  %prun  %psearch  %psource  %pushd  %pwd  %pycat  %pylab  %qtconsole  %quickref  %recall  %rehashx  %reload_ext  %rep  %rerun  %reset  %reset_selective  %rm  %rmdir  %run  %save  %sc  %set_env  %store  %sx  %system  %tb  %time  %timeit  %unalias  %unload_ext  %who  %who_ls  %whos  %xdel  %xmode\n",
       "\n",
       "Available cell magics:\n",
       "%%!  %%HTML  %%SVG  %%bash  %%capture  %%debug  %%file  %%html  %%javascript  %%js  %%latex  %%perl  %%prun  %%pypy  %%python  %%python2  %%python3  %%ruby  %%script  %%sh  %%svg  %%sx  %%system  %%time  %%timeit  %%writefile\n",
       "\n",
       "Automagic is ON, % prefix IS NOT needed for line magics."
      ]
     },
     "execution_count": 7,
     "metadata": {},
     "output_type": "execute_result"
    }
   ],
   "source": [
    "%lsmagic"
   ]
  },
  {
   "cell_type": "code",
   "execution_count": 8,
   "metadata": {},
   "outputs": [
    {
     "name": "stdout",
     "output_type": "stream",
     "text": [
      "Package                            Version    \r\n",
      "---------------------------------- -----------\r\n",
      "alabaster                          0.7.12     \r\n",
      "anaconda-client                    1.7.2      \r\n",
      "anaconda-navigator                 1.9.6      \r\n",
      "anaconda-project                   0.8.2      \r\n",
      "asn1crypto                         0.24.0     \r\n",
      "astroid                            1.6.5      \r\n",
      "astropy                            2.0.9      \r\n",
      "atomicwrites                       1.2.1      \r\n",
      "attrs                              18.2.0     \r\n",
      "awkward                            0.8.4      \r\n",
      "awkward-numba                      0.8.4      \r\n",
      "Babel                              2.6.0      \r\n",
      "backports-abc                      0.5        \r\n",
      "backports.functools-lru-cache      1.5        \r\n",
      "backports.lzma                     0.0.13     \r\n",
      "backports.os                       0.1.1      \r\n",
      "backports.shutil-get-terminal-size 1.0.0      \r\n",
      "backports.ssl-match-hostname       3.5.0.1    \r\n",
      "beautifulsoup4                     4.6.3      \r\n",
      "bitarray                           0.8.3      \r\n",
      "bkcharts                           0.2        \r\n",
      "blaze                              0.11.3     \r\n",
      "bleach                             3.1.0      \r\n",
      "bokeh                              1.0.2      \r\n",
      "boto                               2.49.0     \r\n",
      "Bottleneck                         1.2.1      \r\n",
      "cachetools                         3.1.0      \r\n",
      "cdecimal                           2.3        \r\n",
      "certifi                            2018.10.15 \r\n",
      "cffi                               1.11.5     \r\n",
      "chardet                            3.0.4      \r\n",
      "Click                              7.0        \r\n",
      "cloudpickle                        0.6.1      \r\n",
      "clyent                             1.2.2      \r\n",
      "colorama                           0.4.1      \r\n",
      "conda                              4.6.7      \r\n",
      "conda-build                        3.17.6     \r\n",
      "conda-verify                       3.1.1      \r\n",
      "configparser                       3.7.1      \r\n",
      "contextlib2                        0.5.5      \r\n",
      "cryptography                       2.4.2      \r\n",
      "cycler                             0.10.0     \r\n",
      "Cython                             0.29.2     \r\n",
      "cytoolz                            0.9.0.1    \r\n",
      "dask                               1.0.0      \r\n",
      "datashape                          0.5.4      \r\n",
      "decorator                          4.3.2      \r\n",
      "defusedxml                         0.5.0      \r\n",
      "distributed                        1.25.1     \r\n",
      "docutils                           0.14       \r\n",
      "elasticsearch                      6.3.1      \r\n",
      "entrypoints                        0.3        \r\n",
      "enum34                             1.1.6      \r\n",
      "et-xmlfile                         1.0.1      \r\n",
      "fastcache                          1.0.2      \r\n",
      "filelock                           3.0.10     \r\n",
      "Flask                              1.0.2      \r\n",
      "Flask-Cors                         3.0.7      \r\n",
      "fnal-column-analysis-tools         0.2.1      \r\n",
      "funcsigs                           1.0.2      \r\n",
      "functools32                        3.2.3.post2\r\n",
      "future                             0.17.1     \r\n",
      "futures                            3.2.0      \r\n",
      "get                                1.0.3      \r\n",
      "gevent                             1.3.7      \r\n",
      "glob2                              0.6        \r\n",
      "gmpy2                              2.0.8      \r\n",
      "google-api-python-client           1.7.4      \r\n",
      "google-auth                        1.5.1      \r\n",
      "google-auth-httplib2               0.0.3      \r\n",
      "greenlet                           0.4.15     \r\n",
      "grin                               1.2.1      \r\n",
      "h5py                               2.8.0      \r\n",
      "heapdict                           1.0.0      \r\n",
      "histbook                           1.2.5      \r\n",
      "html5lib                           1.0.1      \r\n",
      "httplib2                           0.11.3     \r\n",
      "idna                               2.7        \r\n",
      "imageio                            2.4.1      \r\n",
      "imagesize                          1.1.0      \r\n",
      "importlib-metadata                 0.6        \r\n",
      "ipaddress                          1.0.22     \r\n",
      "ipykernel                          4.10.0     \r\n",
      "ipython                            5.8.0      \r\n",
      "ipython-genutils                   0.2.0      \r\n",
      "ipywidgets                         7.4.2      \r\n",
      "isort                              4.3.4      \r\n",
      "itsdangerous                       1.1.0      \r\n",
      "jdcal                              1.4        \r\n",
      "jedi                               0.13.2     \r\n",
      "Jinja2                             2.10       \r\n",
      "jsonschema                         2.6.0      \r\n",
      "jupyter                            1.0.0      \r\n",
      "jupyter-client                     5.2.4      \r\n",
      "jupyter-console                    5.2.0      \r\n",
      "jupyter-core                       4.4.0      \r\n",
      "jupyterlab                         0.33.11    \r\n",
      "jupyterlab-launcher                0.11.2     \r\n",
      "kiwisolver                         1.0.1      \r\n",
      "lazy-object-proxy                  1.3.1      \r\n",
      "libarchive-c                       2.8        \r\n",
      "lief                               0.9.0      \r\n",
      "linecache2                         1.0.0      \r\n",
      "llvmlite                           0.27.1     \r\n",
      "locket                             0.2.0      \r\n",
      "lxml                               4.2.5      \r\n",
      "MarkupSafe                         1.1.0      \r\n",
      "matplotlib                         2.2.3      \r\n",
      "mccabe                             0.6.1      \r\n",
      "mistune                            0.8.4      \r\n",
      "mkl-fft                            1.0.6      \r\n",
      "mkl-random                         1.0.2      \r\n",
      "more-itertools                     4.3.0      \r\n",
      "mpmath                             1.1.0      \r\n",
      "msgpack                            0.5.6      \r\n",
      "multipledispatch                   0.6.0      \r\n",
      "navigator-updater                  0.2.1      \r\n",
      "nbconvert                          5.4.1      \r\n",
      "nbformat                           4.4.0      \r\n",
      "networkx                           2.2        \r\n",
      "nltk                               3.4        \r\n",
      "nose                               1.3.7      \r\n",
      "notebook                           5.7.4      \r\n",
      "numba                              0.42.1     \r\n",
      "numexpr                            2.6.8      \r\n",
      "numpy                              1.16.1     \r\n",
      "numpydoc                           0.8.0      \r\n",
      "oauth2client                       4.1.3      \r\n",
      "odo                                0.5.1      \r\n",
      "olefile                            0.46       \r\n",
      "openpyxl                           2.5.12     \r\n",
      "packaging                          18.0       \r\n",
      "pandas                             0.23.4     \r\n",
      "pandocfilters                      1.4.2      \r\n",
      "parso                              0.3.1      \r\n",
      "partd                              0.3.9      \r\n",
      "path.py                            11.5.0     \r\n",
      "pathlib2                           2.3.3      \r\n",
      "patsy                              0.5.1      \r\n",
      "pep8                               1.7.1      \r\n",
      "pexpect                            4.6.0      \r\n",
      "pickleshare                        0.7.5      \r\n",
      "Pillow                             5.3.0      \r\n",
      "pip                                18.1       \r\n",
      "pkginfo                            1.4.2      \r\n",
      "pluggy                             0.8.0      \r\n",
      "ply                                3.11       \r\n",
      "post                               1.0.2      \r\n",
      "prometheus-client                  0.5.0      \r\n",
      "prompt-toolkit                     1.0.15     \r\n",
      "psutil                             5.4.8      \r\n",
      "ptyprocess                         0.6.0      \r\n",
      "public                             2.0.1      \r\n",
      "py                                 1.7.0      \r\n",
      "pyasn1                             0.4.4      \r\n",
      "pyasn1-modules                     0.2.2      \r\n",
      "pycairo                            1.18.0     \r\n",
      "pycodestyle                        2.4.0      \r\n",
      "pycosat                            0.6.3      \r\n",
      "pycparser                          2.19       \r\n",
      "pycrypto                           2.6.1      \r\n",
      "pycurl                             7.43.0.2   \r\n",
      "pyflakes                           2.0.0      \r\n",
      "Pygments                           2.3.1      \r\n",
      "pyinstrument                       2.2.1      \r\n",
      "pyinstrument-cext                  0.2.0      \r\n",
      "pylint                             1.9.2      \r\n",
      "pyodbc                             4.0.25     \r\n",
      "pyOpenSSL                          18.0.0     \r\n",
      "pyparsing                          2.3.0      \r\n",
      "PySocks                            1.6.8      \r\n",
      "pytest                             4.0.2      \r\n",
      "python-dateutil                    2.8.0      \r\n",
      "pytz                               2018.7     \r\n",
      "PyWavelets                         1.0.1      \r\n",
      "PyYAML                             3.13       \r\n",
      "pyzmq                              17.1.2     \r\n",
      "QtAwesome                          0.5.3      \r\n",
      "qtconsole                          4.4.3      \r\n",
      "QtPy                               1.5.2      \r\n",
      "query-string                       1.0.2      \r\n",
      "request                            1.0.2      \r\n",
      "requests                           2.20.0     \r\n",
      "rope                               0.11.0     \r\n",
      "rsa                                4.0        \r\n",
      "ruamel-yaml                        0.15.46    \r\n",
      "scandir                            1.9.0      \r\n",
      "scikit-image                       0.14.1     \r\n",
      "scikit-learn                       0.20.1     \r\n",
      "scipy                              1.1.0      \r\n",
      "seaborn                            0.9.0      \r\n",
      "Send2Trash                         1.5.0      \r\n",
      "setuptools                         40.8.0     \r\n",
      "simplegeneric                      0.8.1      \r\n",
      "singledispatch                     3.4.0.3    \r\n",
      "six                                1.12.0     \r\n",
      "snowballstemmer                    1.2.1      \r\n",
      "sortedcollections                  1.0.1      \r\n",
      "sortedcontainers                   2.1.0      \r\n",
      "Sphinx                             1.8.2      \r\n",
      "sphinxcontrib-websupport           1.1.0      \r\n",
      "spyder                             3.3.2      \r\n",
      "spyder-kernels                     0.3.0      \r\n",
      "SQLAlchemy                         1.2.15     \r\n",
      "statsmodels                        0.9.0      \r\n",
      "striped                            1.12.2     \r\n",
      "subprocess32                       3.5.3      \r\n",
      "sympy                              1.3        \r\n",
      "tables                             3.4.4      \r\n",
      "tblib                              1.3.2      \r\n",
      "terminado                          0.8.1      \r\n",
      "testpath                           0.4.2      \r\n",
      "toolz                              0.9.0      \r\n",
      "tornado                            5.1.1      \r\n",
      "tqdm                               4.28.1     \r\n",
      "traceback2                         1.4.0      \r\n",
      "traitlets                          4.3.2      \r\n",
      "typing                             3.6.6      \r\n",
      "unicodecsv                         0.14.1     \r\n",
      "unittest2                          1.1.0      \r\n",
      "uproot                             3.4.5      \r\n",
      "uproot-methods                     0.4.2      \r\n",
      "uritemplate                        3.0.0      \r\n",
      "urllib3                            1.24       \r\n",
      "vega                               1.1.0      \r\n",
      "vegascope                          1.0.12     \r\n",
      "wcwidth                            0.1.7      \r\n",
      "webencodings                       0.5.1      \r\n",
      "Werkzeug                           0.14.1     \r\n",
      "wheel                              0.32.3     \r\n",
      "widgetsnbextension                 3.4.2      \r\n",
      "wrapt                              1.10.11    \r\n",
      "wurlitzer                          1.0.2      \r\n",
      "xlrd                               1.2.0      \r\n",
      "XlsxWriter                         1.1.2      \r\n",
      "xlwt                               1.3.0      \r\n",
      "zict                               0.1.3      \r\n"
     ]
    }
   ],
   "source": [
    "!pip list"
   ]
  },
  {
   "cell_type": "code",
   "execution_count": 9,
   "metadata": {},
   "outputs": [
    {
     "data": {
      "text/plain": [
       "u'/home/furkan/work/tutorial/jupyter_notebook/test'"
      ]
     },
     "execution_count": 9,
     "metadata": {},
     "output_type": "execute_result"
    }
   ],
   "source": [
    "%pwd"
   ]
  },
  {
   "cell_type": "code",
   "execution_count": 10,
   "metadata": {},
   "outputs": [
    {
     "name": "stdout",
     "output_type": "stream",
     "text": [
      "total 184\r\n",
      "drwxr-xr-x 3 furkan furkan  4096 Feb 22 17:45 \u001b[0m\u001b[01;34m.\u001b[0m/\r\n",
      "drwxr-xr-x 4 furkan furkan  4096 Feb 12 12:09 \u001b[01;34m..\u001b[0m/\r\n",
      "drwxr-xr-x 2 furkan furkan  4096 Feb 13 12:30 \u001b[01;34m.ipynb_checkpoints\u001b[0m/\r\n",
      "-rw-r--r-- 1 furkan furkan 42319 Feb 13 12:29 test1.HTML\r\n",
      "-rw-r--r-- 1 furkan furkan 34266 Feb 22 17:45 test1.ipynb\r\n",
      "-rw-r--r-- 1 furkan furkan 42319 Feb 13 12:30 test2.html\r\n",
      "-rw-r--r-- 1 furkan furkan 42319 Feb 13 12:28 testing.ipynb\r\n",
      "-rw-r--r-- 1 furkan furkan    72 Feb 12 12:11 Untitled1.ipynb\r\n"
     ]
    }
   ],
   "source": [
    "%ls -all"
   ]
  },
  {
   "cell_type": "code",
   "execution_count": 11,
   "metadata": {},
   "outputs": [],
   "source": [
    "%matplotlib inline "
   ]
  },
  {
   "cell_type": "code",
   "execution_count": 12,
   "metadata": {},
   "outputs": [
    {
     "data": {
      "image/png": "[encoded data removed]",
      "text/plain": [
       "<Figure size 432x288 with 1 Axes>"
      ]
     },
     "metadata": {
      "needs_background": "light"
     },
     "output_type": "display_data"
    }
   ],
   "source": [
    "\"\"\"\n",
    "demo of scatter plot.\n",
    "\"\"\"\n",
    "import numpy as np\n",
    "import matplotlib.pyplot as plt\n",
    "\n",
    "N=50\n",
    "x=np.random.rand(N)\n",
    "y=np.random.rand(N)\n",
    "colors = np.random.rand(N)\n",
    "area = np.pi* (15 * np.random.rand(N))**2 # 0 to 15 point radiuses\n",
    "\n",
    "plt.scatter(x, y, s=area, c=colors, alpha=0.5)\n",
    "plt.show()"
   ]
  },
  {
   "cell_type": "code",
   "execution_count": 13,
   "metadata": {},
   "outputs": [
    {
     "data": {
      "text/html": [
       "<iframe width=\"800\" height=\"600\" src=\"https://www.youtube.com/embed/1W5BA0lDVLM\" frameborder=\"0\" allow=\"accelerometer; autoplay; encrypted-media; gyroscope; picture-in-picture\" allowfullscreen></iframe>"
      ],
      "text/plain": [
       "<IPython.core.display.HTML object>"
      ]
     },
     "metadata": {},
     "output_type": "display_data"
    }
   ],
   "source": [
    "%%HTML\n",
    "<iframe width=\"800\" height=\"600\" src=\"https://www.youtube.com/embed/1W5BA0lDVLM\" frameborder=\"0\" allow=\"accelerometer; autoplay; encrypted-media; gyroscope; picture-in-picture\" allowfullscreen></iframe>"
   ]
  },
  {
   "cell_type": "code",
   "execution_count": 14,
   "metadata": {},
   "outputs": [
    {
     "name": "stdout",
     "output_type": "stream",
     "text": [
      "The slowest run took 22.33 times longer than the fastest. This could mean that an intermediate result is being cached.\n",
      "100000 loops, best of 3: 5.24 µs per loop\n"
     ]
    }
   ],
   "source": [
    "%%timeit\n",
    "square_events= [n*n for n in range(100)]"
   ]
  },
  {
   "cell_type": "markdown",
   "metadata": {},
   "source": [
    "# if you clean kernel and try to run next cell it wont work beacuse needs to import numpy\n",
    "# So you need to import numpy as np, or run cell above which one imported numpy"
   ]
  },
  {
   "cell_type": "code",
   "execution_count": 15,
   "metadata": {},
   "outputs": [
    {
     "data": {
      "text/html": [
       "<div>\n",
       "<style scoped>\n",
       "    .dataframe tbody tr th:only-of-type {\n",
       "        vertical-align: middle;\n",
       "    }\n",
       "\n",
       "    .dataframe tbody tr th {\n",
       "        vertical-align: top;\n",
       "    }\n",
       "\n",
       "    .dataframe thead th {\n",
       "        text-align: right;\n",
       "    }\n",
       "</style>\n",
       "<table border=\"1\" class=\"dataframe\">\n",
       "  <thead>\n",
       "    <tr style=\"text-align: right;\">\n",
       "      <th></th>\n",
       "      <th>0</th>\n",
       "      <th>1</th>\n",
       "      <th>2</th>\n",
       "      <th>3</th>\n",
       "      <th>4</th>\n",
       "    </tr>\n",
       "  </thead>\n",
       "  <tbody>\n",
       "    <tr>\n",
       "      <th>0</th>\n",
       "      <td>1.186919</td>\n",
       "      <td>-0.761768</td>\n",
       "      <td>0.049456</td>\n",
       "      <td>0.161317</td>\n",
       "      <td>-0.564615</td>\n",
       "    </tr>\n",
       "    <tr>\n",
       "      <th>1</th>\n",
       "      <td>0.975485</td>\n",
       "      <td>-0.158814</td>\n",
       "      <td>1.197994</td>\n",
       "      <td>-0.186803</td>\n",
       "      <td>0.680334</td>\n",
       "    </tr>\n",
       "    <tr>\n",
       "      <th>2</th>\n",
       "      <td>-1.431883</td>\n",
       "      <td>-0.170084</td>\n",
       "      <td>-0.136101</td>\n",
       "      <td>-1.119277</td>\n",
       "      <td>-0.853199</td>\n",
       "    </tr>\n",
       "    <tr>\n",
       "      <th>3</th>\n",
       "      <td>-1.175117</td>\n",
       "      <td>0.196454</td>\n",
       "      <td>1.876056</td>\n",
       "      <td>-0.419815</td>\n",
       "      <td>0.767970</td>\n",
       "    </tr>\n",
       "    <tr>\n",
       "      <th>4</th>\n",
       "      <td>-1.216933</td>\n",
       "      <td>1.168927</td>\n",
       "      <td>-0.281628</td>\n",
       "      <td>0.050310</td>\n",
       "      <td>0.378173</td>\n",
       "    </tr>\n",
       "    <tr>\n",
       "      <th>5</th>\n",
       "      <td>1.847460</td>\n",
       "      <td>-0.884127</td>\n",
       "      <td>-0.725175</td>\n",
       "      <td>3.685464</td>\n",
       "      <td>0.216856</td>\n",
       "    </tr>\n",
       "    <tr>\n",
       "      <th>6</th>\n",
       "      <td>0.069856</td>\n",
       "      <td>-1.371295</td>\n",
       "      <td>-1.425059</td>\n",
       "      <td>-1.376333</td>\n",
       "      <td>-1.478439</td>\n",
       "    </tr>\n",
       "    <tr>\n",
       "      <th>7</th>\n",
       "      <td>-0.246839</td>\n",
       "      <td>-1.129503</td>\n",
       "      <td>0.743394</td>\n",
       "      <td>-0.294974</td>\n",
       "      <td>0.425867</td>\n",
       "    </tr>\n",
       "    <tr>\n",
       "      <th>8</th>\n",
       "      <td>-0.504180</td>\n",
       "      <td>0.192649</td>\n",
       "      <td>1.095320</td>\n",
       "      <td>0.921222</td>\n",
       "      <td>-0.615309</td>\n",
       "    </tr>\n",
       "    <tr>\n",
       "      <th>9</th>\n",
       "      <td>-1.142277</td>\n",
       "      <td>-0.098838</td>\n",
       "      <td>-0.243780</td>\n",
       "      <td>-0.351974</td>\n",
       "      <td>-0.938661</td>\n",
       "    </tr>\n",
       "  </tbody>\n",
       "</table>\n",
       "</div>"
      ],
      "text/plain": [
       "          0         1         2         3         4\n",
       "0  1.186919 -0.761768  0.049456  0.161317 -0.564615\n",
       "1  0.975485 -0.158814  1.197994 -0.186803  0.680334\n",
       "2 -1.431883 -0.170084 -0.136101 -1.119277 -0.853199\n",
       "3 -1.175117  0.196454  1.876056 -0.419815  0.767970\n",
       "4 -1.216933  1.168927 -0.281628  0.050310  0.378173\n",
       "5  1.847460 -0.884127 -0.725175  3.685464  0.216856\n",
       "6  0.069856 -1.371295 -1.425059 -1.376333 -1.478439\n",
       "7 -0.246839 -1.129503  0.743394 -0.294974  0.425867\n",
       "8 -0.504180  0.192649  1.095320  0.921222 -0.615309\n",
       "9 -1.142277 -0.098838 -0.243780 -0.351974 -0.938661"
      ]
     },
     "execution_count": 15,
     "metadata": {},
     "output_type": "execute_result"
    }
   ],
   "source": [
    "import pandas as pd \n",
    "df = pd.DataFrame(np.random.randn(10,5))\n",
    "df"
   ]
  },
  {
   "cell_type": "code",
   "execution_count": 16,
   "metadata": {},
   "outputs": [
    {
     "data": {
      "text/html": [
       "<div>\n",
       "<style scoped>\n",
       "    .dataframe tbody tr th:only-of-type {\n",
       "        vertical-align: middle;\n",
       "    }\n",
       "\n",
       "    .dataframe tbody tr th {\n",
       "        vertical-align: top;\n",
       "    }\n",
       "\n",
       "    .dataframe thead th {\n",
       "        text-align: right;\n",
       "    }\n",
       "</style>\n",
       "<table border=\"1\" class=\"dataframe\">\n",
       "  <thead>\n",
       "    <tr style=\"text-align: right;\">\n",
       "      <th></th>\n",
       "      <th>0</th>\n",
       "      <th>1</th>\n",
       "      <th>2</th>\n",
       "      <th>3</th>\n",
       "      <th>4</th>\n",
       "    </tr>\n",
       "  </thead>\n",
       "  <tbody>\n",
       "    <tr>\n",
       "      <th>0</th>\n",
       "      <td>1.186919</td>\n",
       "      <td>-0.761768</td>\n",
       "      <td>0.049456</td>\n",
       "      <td>0.161317</td>\n",
       "      <td>-0.564615</td>\n",
       "    </tr>\n",
       "    <tr>\n",
       "      <th>1</th>\n",
       "      <td>0.975485</td>\n",
       "      <td>-0.158814</td>\n",
       "      <td>1.197994</td>\n",
       "      <td>-0.186803</td>\n",
       "      <td>0.680334</td>\n",
       "    </tr>\n",
       "    <tr>\n",
       "      <th>2</th>\n",
       "      <td>-1.431883</td>\n",
       "      <td>-0.170084</td>\n",
       "      <td>-0.136101</td>\n",
       "      <td>-1.119277</td>\n",
       "      <td>-0.853199</td>\n",
       "    </tr>\n",
       "    <tr>\n",
       "      <th>3</th>\n",
       "      <td>-1.175117</td>\n",
       "      <td>0.196454</td>\n",
       "      <td>1.876056</td>\n",
       "      <td>-0.419815</td>\n",
       "      <td>0.767970</td>\n",
       "    </tr>\n",
       "    <tr>\n",
       "      <th>4</th>\n",
       "      <td>-1.216933</td>\n",
       "      <td>1.168927</td>\n",
       "      <td>-0.281628</td>\n",
       "      <td>0.050310</td>\n",
       "      <td>0.378173</td>\n",
       "    </tr>\n",
       "  </tbody>\n",
       "</table>\n",
       "</div>"
      ],
      "text/plain": [
       "          0         1         2         3         4\n",
       "0  1.186919 -0.761768  0.049456  0.161317 -0.564615\n",
       "1  0.975485 -0.158814  1.197994 -0.186803  0.680334\n",
       "2 -1.431883 -0.170084 -0.136101 -1.119277 -0.853199\n",
       "3 -1.175117  0.196454  1.876056 -0.419815  0.767970\n",
       "4 -1.216933  1.168927 -0.281628  0.050310  0.378173"
      ]
     },
     "execution_count": 16,
     "metadata": {},
     "output_type": "execute_result"
    }
   ],
   "source": [
    "df.head()"
   ]
  },
  {
   "cell_type": "code",
   "execution_count": null,
   "metadata": {},
   "outputs": [],
   "source": []
  },
  {
   "cell_type": "code",
   "execution_count": null,
   "metadata": {},
   "outputs": [],
   "source": []
  },
  {
   "cell_type": "code",
   "execution_count": null,
   "metadata": {},
   "outputs": [],
   "source": [
    ":"
   ]
  }
 ],
 "metadata": {
  "kernelspec": {
   "display_name": "Python 2",
   "language": "python",
   "name": "python2"
  },
  "language_info": {
   "codemirror_mode": {
    "name": "ipython",
    "version": 2
   },
   "file_extension": ".py",
   "mimetype": "text/x-python",
   "name": "python",
   "nbconvert_exporter": "python",
   "pygments_lexer": "ipython2",
   "version": "2.7.15"
  }
 },
 "nbformat": 4,
 "nbformat_minor": 2
}
